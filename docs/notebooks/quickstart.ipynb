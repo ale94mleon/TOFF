{
 "cells": [
  {
   "cell_type": "markdown",
   "metadata": {},
   "source": [
    "# Quickstart\n",
    "First let import the modules to work with.  Some functionalities of **TOFF** may not be available on PyPi. This could be because the new version is not yet release, but in brief it is going to be. You could install directly from the repo if some problem pops up. Just paste the following in a code cell:\n",
    "```bash\n",
    "! pip install git+https://github.com/ale94mleon/TOFF.git@main\n",
    "```"
   ]
  },
  {
   "cell_type": "markdown",
   "metadata": {},
   "source": [
    "## As module"
   ]
  },
  {
   "cell_type": "code",
   "execution_count": 29,
   "metadata": {},
   "outputs": [],
   "source": [
    "from toff import Parameterize\n",
    "from rdkit import Chem\n",
    "import tempfile, os, yaml"
   ]
  },
  {
   "cell_type": "code",
   "execution_count": 30,
   "metadata": {},
   "outputs": [],
   "source": [
    "# We will use this temporal directory, you could change it in your case to, for example wd = '.'\n",
    "tmp_dir = tempfile.TemporaryDirectory()\n",
    "wd = tmp_dir.name"
   ]
  },
  {
   "cell_type": "markdown",
   "metadata": {},
   "source": [
    "### Initialize the class\n",
    "The first steep is to create an instance of the class [Parameterize.__init__](https://toff.readthedocs.io/en/latest/source/modules/utils.html#toff.utils.Parameterize.__init__) (follow the link to know all possible arguments to initialize the class). For now we will use the default parameters, we will only specify the `out_dir`.\n"
   ]
  },
  {
   "cell_type": "code",
   "execution_count": 31,
   "metadata": {},
   "outputs": [
    {
     "data": {
      "text/plain": [
       "Parameterize(force_field_code = openff_unconstrained-2.0.0.offxml, ext_types = [top pdb gro], hmr_factor = None, overwrite = False, out_dir = /tmp/tmp7ix2f0nu)"
      ]
     },
     "execution_count": 31,
     "metadata": {},
     "output_type": "execute_result"
    }
   ],
   "source": [
    "parameterizer = Parameterize(out_dir=wd)\n",
    "parameterizer"
   ]
  },
  {
   "cell_type": "markdown",
   "metadata": {},
   "source": [
    "### call the class\n",
    "You could see what ara all the arguments to specify here [Parameterize.__call__](https://toff.readthedocs.io/en/latest/source/modules/utils.html#toff.utils.Parameterize.__call__).\n",
    "Becasue we kno that the molecule doe not have a conformation, then we set `gen_conformer=True`"
   ]
  },
  {
   "cell_type": "code",
   "execution_count": 32,
   "metadata": {},
   "outputs": [
    {
     "name": "stdout",
     "output_type": "stream",
     "text": [
      "Charges will be corrected: partial_charge - formal_charge = -0.002\n",
      "After correction: partial_charge - formal_charge = 0.0.\n"
     ]
    },
    {
     "data": {
      "text/plain": [
       "['MOL.gro', 'MOL.pdb', 'MOL.top']"
      ]
     },
     "execution_count": 32,
     "metadata": {},
     "output_type": "execute_result"
    }
   ],
   "source": [
    "parameterizer(Chem.MolFromSmiles('CCO'), gen_conformer=True)\n",
    "os.listdir(wd)"
   ]
  },
  {
   "cell_type": "markdown",
   "metadata": {},
   "source": [
    "### Take a look on the .top file"
   ]
  },
  {
   "cell_type": "code",
   "execution_count": 33,
   "metadata": {},
   "outputs": [
    {
     "name": "stdout",
     "output_type": "stream",
     "text": [
      ";\n",
      ";   File /tmp/tmp7ix2f0nu/MOL.top  was generated\n",
      ";   By user: ale (1000)\n",
      ";   On host: ale-MS-7B86\n",
      ";   At date: Thu. November  4 18:09:16 2022\n",
      ";\n",
      ";   This is a standalone topology file\n",
      ";\n",
      ";   Created by:\n",
      ";   ParmEd:       ipykernel_launcher.py, VERSION 3.4.3\n",
      ";   Executable:   ipykernel_launcher.py\n",
      ";   Library dir:  /usr/local/gromacs/share/gromacs/top\n",
      ";   Command line:\n",
      ";     /home/ale/anaconda3/envs/toff/lib/python3.10/site-packages/ipykernel_launcher.py -f /home/ale/.local/share/jupyter/runtime/kernel-47679357-03c6-4c4d-a25d-ed6ca5de61a9.json\n",
      ";\n",
      "\n",
      "[ defaults ]\n",
      "; nbfunc        comb-rule       gen-pairs       fudgeLJ fudgeQQ\n",
      "1               2               no              1            0.83333333  \n",
      "\n",
      "[ atomtypes ]\n",
      "; name    at.num    mass    charge ptype  sigma      epsilon\n",
      "C1             6  12.010780  0.00000000  A     0.33795318     0.45538912\n",
      "O1             8  15.999430  0.00000000  A       0.299716     0.87643726\n",
      "H1             1   1.007947  0.00000000  A     0.26445434    0.066021356\n",
      "H2             1   1.007947  0.00000000  A     0.25832257    0.068656285\n",
      "H3             1   1.007947  0.00000000  A    0.053453923  5.1571983e-05\n",
      "\n",
      "\n",
      "[ moleculetype ]\n",
      "; Name            nrexcl\n",
      "MOL          3\n",
      "\n",
      "[ atoms ]\n",
      ";   nr       type  resnr residue  atom   cgnr    charge       mass  typeB    chargeB      massB\n",
      "; residue    1 MOL rtp MOL q 0.0\n",
      "    1         C1      1    MOL     C1      1 -0.13600000  12.010780   ; qtot -0.136000\n",
      "    2         C1      1    MOL     C2      2 0.12600000  12.010780   ; qtot -0.010000\n",
      "    3         O1      1    MOL     O1      3 -0.60000000  15.999430   ; qtot -0.610000\n",
      "    4         H1      1    MOL     H1      4 0.04200000   1.007947   ; qtot -0.568000\n",
      "    5         H1      1    MOL     H2      5 0.04400000   1.007947   ; qtot -0.524000\n",
      "    6         H1      1    MOL     H3      6 0.04200000   1.007947   ; qtot -0.482000\n",
      "    7         H2      1    MOL     H4      7 0.04300000   1.007947   ; qtot -0.439000\n",
      "    8         H2      1    MOL     H5      8 0.04300000   1.007947   ; qtot -0.396000\n",
      "    9         H3      1    MOL     H6      9 0.39600000   1.007947   ; qtot 0.000000\n",
      "\n",
      "[ bonds ]\n",
      ";    ai     aj funct         c0         c1         c2         c3\n",
      "      1      2     1   0.15219 221435.259290\n",
      "      1      4     1   0.10939 309655.084322\n",
      "      1      5     1   0.10939 309655.084322\n",
      "      1      6     1   0.10939 309655.084322\n",
      "      2      3     1   0.14273 276118.879749\n",
      "      2      7     1   0.10939 309655.084322\n",
      "      2      8     1   0.10939 309655.084322\n",
      "      3      9     1   0.09717 454823.212172\n",
      "\n",
      "[ pairs ]\n",
      ";    ai     aj funct         c0         c1         c2         c3\n",
      "      3      4     1 0.282085170 0.120274245\n",
      "      3      5     1 0.282085170 0.120274245\n",
      "      3      6     1 0.282085170 0.120274245\n",
      "      4      7     1 0.261388456 0.033662966\n",
      "      5      7     1 0.261388456 0.033662966\n",
      "      6      7     1 0.261388456 0.033662966\n",
      "      4      8     1 0.261388456 0.033662966\n",
      "      5      8     1 0.261388456 0.033662966\n",
      "      6      8     1 0.261388456 0.033662966\n",
      "      1      9     1 0.195703550 0.002423083\n",
      "      7      9     1 0.155888247 0.000940843\n",
      "      8      9     1 0.155888247 0.000940843\n",
      "\n",
      "[ angles ]\n",
      ";    ai     aj     ak funct         c0         c1         c2         c3\n",
      "      1      2      3     1   116.5475863 445.222087\n",
      "      1      2      7     1   116.5475863 445.222087\n",
      "      1      2      8     1   116.5475863 445.222087\n",
      "      2      1      4     1   116.5475863 445.222087\n",
      "      2      1      5     1   116.5475863 445.222087\n",
      "      2      1      6     1   116.5475863 445.222087\n",
      "      2      3      9     1   110.3538806 544.678275\n",
      "      3      2      7     1   116.5475863 445.222087\n",
      "      3      2      8     1   116.5475863 445.222087\n",
      "      4      1      5     1   115.6031000 408.161690\n",
      "      4      1      6     1   115.6031000 408.161690\n",
      "      5      1      6     1   115.6031000 408.161690\n",
      "      7      2      8     1   115.6031000 408.161690\n",
      "\n",
      "[ dihedrals ]\n",
      ";    ai     aj     ak     al funct         c0         c1         c2         c3         c4         c5\n",
      "      1      2      3      9     1  0.0000000  1.4415479  3\n",
      "      1      2      3      9     1  0.0000000  0.5709304  1\n",
      "      3      2      1      4     1  0.0000000  0.4667359  3\n",
      "      3      2      1      4     1  0.0000000  1.4361539  1\n",
      "      3      2      1      5     1  0.0000000  0.4667359  3\n",
      "      3      2      1      5     1  0.0000000  1.4361539  1\n",
      "      3      2      1      6     1  0.0000000  0.4667359  3\n",
      "      3      2      1      6     1  0.0000000  1.4361539  1\n",
      "      4      1      2      7     1  0.0000000  0.7999501  3\n",
      "      4      1      2      8     1  0.0000000  0.7999501  3\n",
      "      5      1      2      7     1  0.0000000  0.7999501  3\n",
      "      5      1      2      8     1  0.0000000  0.7999501  3\n",
      "      6      1      2      7     1  0.0000000  0.7999501  3\n",
      "      6      1      2      8     1  0.0000000  0.7999501  3\n",
      "      7      2      3      9     1  0.0000000  1.2662416  3\n",
      "      8      2      3      9     1  0.0000000  1.2662416  3\n",
      "\n",
      "[ system ]\n",
      "; Name\n",
      "Generic title\n",
      "\n",
      "[ molecules ]\n",
      "; Compound       #mols\n",
      "MOL                  1\n",
      "\n"
     ]
    }
   ],
   "source": [
    "with open(os.path.join(wd, 'MOL.top'), 'r') as f:\n",
    "    text = f.read()\n",
    "print(text)"
   ]
  },
  {
   "cell_type": "markdown",
   "metadata": {},
   "source": [
    "We could reuse the instance of Parameterize and used in other molecule"
   ]
  },
  {
   "cell_type": "code",
   "execution_count": 34,
   "metadata": {},
   "outputs": [
    {
     "name": "stdout",
     "output_type": "stream",
     "text": [
      "Charges will be corrected: partial_charge - formal_charge = 0.003\n",
      "After correction: partial_charge - formal_charge = 0.0.\n"
     ]
    },
    {
     "data": {
      "text/plain": [
       "['LIG.top', 'MOL.gro', 'MOL.pdb', 'LIG.pdb', 'MOL.top', 'LIG.gro']"
      ]
     },
     "execution_count": 34,
     "metadata": {},
     "output_type": "execute_result"
    }
   ],
   "source": [
    "parameterizer(\n",
    "    input_mol=Chem.MolFromSmiles('NCCCC'),\n",
    "    mol_resi_name='LIG',\n",
    "    gen_conformer=True,    \n",
    ")\n",
    "os.listdir(wd)"
   ]
  },
  {
   "cell_type": "markdown",
   "metadata": {},
   "source": [
    "We would like to use [Hydrogen Mass Repartitioning](https://pubs.acs.org/doi/10.1021/ct5010406). This allows to increases the integration time step from 2 fs (usually) to 4fs. Here we have to create a new instance of Parameterize and set the `hmr_factor`. We will use 3, which means that the mas off the hydrogens atoms will increase in a factor of 3 using the mass of the heavy atoms attached to them."
   ]
  },
  {
   "cell_type": "code",
   "execution_count": 35,
   "metadata": {},
   "outputs": [
    {
     "data": {
      "text/plain": [
       "Parameterize(force_field_code = openff_unconstrained-2.0.0.offxml, ext_types = [top pdb gro], hmr_factor = 3, overwrite = False, out_dir = /tmp/tmp7ix2f0nu)"
      ]
     },
     "execution_count": 35,
     "metadata": {},
     "output_type": "execute_result"
    }
   ],
   "source": [
    "parameterizer_hmr = Parameterize(out_dir=wd, hmr_factor=3)\n",
    "parameterizer_hmr"
   ]
  },
  {
   "cell_type": "code",
   "execution_count": 36,
   "metadata": {},
   "outputs": [
    {
     "name": "stdout",
     "output_type": "stream",
     "text": [
      "Charges will be corrected: partial_charge - formal_charge = 0.001\n",
      "After correction: partial_charge - formal_charge = -0.0.\n"
     ]
    },
    {
     "data": {
      "text/plain": [
       "['LIG.top',\n",
       " 'MOL.gro',\n",
       " 'HMR.top',\n",
       " 'HMR.gro',\n",
       " 'MOL.pdb',\n",
       " 'LIG.pdb',\n",
       " 'MOL.top',\n",
       " 'LIG.gro',\n",
       " 'HMR.pdb']"
      ]
     },
     "execution_count": 36,
     "metadata": {},
     "output_type": "execute_result"
    }
   ],
   "source": [
    "parameterizer_hmr(\n",
    "    input_mol=Chem.MolFromSmiles('CCF'),\n",
    "    mol_resi_name='HMR',\n",
    "    gen_conformer=True,    \n",
    ")\n",
    "os.listdir(wd)"
   ]
  },
  {
   "cell_type": "markdown",
   "metadata": {},
   "source": [
    "## As command line\n",
    "We need to first create a yaml configuration file that is nothing else that a more human-readable python dictionary. The content of this file is all the variables needed for initialize and call the parameterize class. The only mandatory argument is `input_mol` and in this case must be a path to a file with the following extensions: smi, inchi, mol, mol2. In the case of smi and inchi only will be redded the first line of the file and must be a valid SMILES or InChi strings respectively."
   ]
  },
  {
   "cell_type": "code",
   "execution_count": 37,
   "metadata": {},
   "outputs": [
    {
     "data": {
      "text/plain": [
       "['LIG.top',\n",
       " 'MOL.gro',\n",
       " 'HMR.top',\n",
       " 'HMR.gro',\n",
       " 'MOL.pdb',\n",
       " 'LIG.pdb',\n",
       " 'MOL.top',\n",
       " 'my_file.mol',\n",
       " 'LIG.gro',\n",
       " 'HMR.pdb']"
      ]
     },
     "execution_count": 37,
     "metadata": {},
     "output_type": "execute_result"
    }
   ],
   "source": [
    "# First let save a molecule\n",
    "Chem.MolToMolFile(Chem.MolFromSmiles('CCCBr'), os.path.join(wd, 'my_file.mol'))\n",
    "os.listdir(wd)\n"
   ]
  },
  {
   "cell_type": "code",
   "execution_count": 38,
   "metadata": {},
   "outputs": [],
   "source": [
    "config = {\n",
    "    'force_field_code': 'openff-1.3.1.offxml', # by default is openff_unconstrained-2.0.0.offxml\n",
    "    'ext_types': ['mol3', 'top'], # by default is ['top', 'pdb', 'gro']. And ypou could pick from: ‘pdb’, ‘pqr’, ‘cif’,’pdbx’, ‘parm7’, ‘prmtop’, ‘psf’, ‘top’, ‘gro’, ‘mol2’, ‘mol3’, ‘crd’, ‘rst7’, ‘inpcrd’, ‘restrt’, ‘ncrst’ \n",
    "    'hmr_factor': 2.5, # by default None\n",
    "    'overwrite': True, # by default False\n",
    "    'out_dir': os.path.join(wd, 'cmd'), # by default '.'\n",
    "    'input_mol': os.path.join(wd, 'my_file.mol'), # The only parameter that MUST BE PROVIDED!\n",
    "    'mol_resi_name': 'CMD', # by default 'MOL'\n",
    "    'gen_conformer': True, # by default False\n",
    "}"
   ]
  },
  {
   "cell_type": "code",
   "execution_count": 39,
   "metadata": {},
   "outputs": [
    {
     "name": "stdout",
     "output_type": "stream",
     "text": [
      "This is how it looks the wd: ['LIG.top', 'MOL.gro', 'HMR.top', 'HMR.gro', 'MOL.pdb', 'LIG.pdb', 'MOL.top', 'my_file.mol', 'LIG.gro', 'config.yml', 'HMR.pdb']\n",
      "===========config.yml=======================\n",
      "ext_types:\n",
      "- mol3\n",
      "- top\n",
      "force_field_code: openff-1.3.1.offxml\n",
      "gen_conformer: true\n",
      "hmr_factor: 2.5\n",
      "input_mol: /tmp/tmp7ix2f0nu/my_file.mol\n",
      "mol_resi_name: CMD\n",
      "out_dir: /tmp/tmp7ix2f0nu/cmd\n",
      "overwrite: true\n",
      "\n",
      "============================================\n",
      "Path to the config file: /tmp/tmp7ix2f0nu/config.yml\n"
     ]
    }
   ],
   "source": [
    "with open(os.path.join(wd, 'config.yml'), 'w') as cf:\n",
    "    yaml.dump(config, cf)\n",
    "\n",
    "print(f\"This is how it looks the wd: {os.listdir(wd)}\")\n",
    "\n",
    "with open(os.path.join(wd, 'config.yml'), 'r') as cfy:\n",
    "    text = cfy.read()\n",
    "print(\"===========config.yml=======================\")\n",
    "print(text)\n",
    "print(\"============================================\")\n",
    "# let's also get the path to the config.yml file to passed to the command line.\n",
    "print(f\"Path to the config file: {os.path.join(wd, 'config.yml')}\")"
   ]
  },
  {
   "cell_type": "code",
   "execution_count": 41,
   "metadata": {},
   "outputs": [
    {
     "name": "stdout",
     "output_type": "stream",
     "text": [
      "Warning: importing 'simtk.openmm' is deprecated.  Import 'openmm' instead.\n",
      "You are using toff:0.0.0-alpha3\n",
      "Parameterize(force_field_code = openff-1.3.1.offxml, ext_types = [mol3 top], hmr_factor = 2.5, overwrite = True, out_dir = /tmp/tmp7ix2f0nu/cmd)\n",
      "Charges will be corrected: partial_charge - formal_charge = -0.001\n",
      "After correction: partial_charge - formal_charge = -0.0.\n"
     ]
    }
   ],
   "source": [
    "# Change the path properly. Yur temporal path is printed in the cell before and for sure it will not be the same as mine.\n",
    "\n",
    "! parameterize /tmp/tmp7ix2f0nu/config.yml"
   ]
  },
  {
   "cell_type": "code",
   "execution_count": 42,
   "metadata": {},
   "outputs": [
    {
     "data": {
      "text/plain": [
       "['CMD.top', 'CMD.mol3']"
      ]
     },
     "execution_count": 42,
     "metadata": {},
     "output_type": "execute_result"
    }
   ],
   "source": [
    "# Check if the file were saved\n",
    "\n",
    "os.listdir(os.path.join(wd, 'cmd'))"
   ]
  }
 ],
 "metadata": {
  "kernelspec": {
   "display_name": "Python 3.10.6 ('toff')",
   "language": "python",
   "name": "python3"
  },
  "language_info": {
   "codemirror_mode": {
    "name": "ipython",
    "version": 3
   },
   "file_extension": ".py",
   "mimetype": "text/x-python",
   "name": "python",
   "nbconvert_exporter": "python",
   "pygments_lexer": "ipython3",
   "version": "3.10.6"
  },
  "orig_nbformat": 4,
  "vscode": {
   "interpreter": {
    "hash": "9b2b39e317f1a508f495cee14ac6a66dc6bcb16d1d87e9b023048dd13ccda999"
   }
  }
 },
 "nbformat": 4,
 "nbformat_minor": 2
}
